{
 "cells": [
  {
   "cell_type": "code",
   "execution_count": 1,
   "metadata": {},
   "outputs": [],
   "source": [
    "import hashlib\n",
    "import json\n",
    "import time\n",
    "import random\n",
    "random.seed(8888)"
   ]
  },
  {
   "cell_type": "code",
   "execution_count": 2,
   "metadata": {},
   "outputs": [],
   "source": [
    "class Block:\n",
    "    def __init__(self, index, previous_block_hash, transaction_list):\n",
    "        self.previous_block_hash = previous_block_hash\n",
    "        self.transaction_list = transaction_list\n",
    "\n",
    "        self.block_data = {\n",
    "            \"index\": index,\n",
    "            \"transaction_list\": transaction_list,\n",
    "            \"previous_block_hash\": previous_block_hash,\n",
    "            \"nonce\": 0\n",
    "        }\n",
    "        self.block_hash = None\n",
    "        self.generate_hash()\n",
    "        # print(self.block_data)\n",
    "        # print(self.block_hash)\n",
    "    def generate_hash(self):\n",
    "        encoded_string = json.dumps(self.block_data).encode()\n",
    "        generated_hash = hashlib.sha256(encoded_string).hexdigest()\n",
    "        while generated_hash[:3] != '000':\n",
    "            self.block_data[\"nonce\"]+=1\n",
    "            encoded_string = json.dumps(self.block_data).encode()\n",
    "            generated_hash = hashlib.sha256(encoded_string).hexdigest()\n",
    "            # print(generated_hash, self.block_data[\"nonce\"])\n",
    "                   \n",
    "        self.block_hash = generated_hash\n",
    "        # self.nonce = nonce\n",
    "        return\n",
    "    def __str__(self):\n",
    "        transaction_content = \"\"\n",
    "        for tran in self.block_data['transaction_list']:\n",
    "            transaction_content += json.dumps(tran) + '\\n'\n",
    "        content = \"Block #{}\\nNonce: {}\\nTransactions: {}\\nPrev: {}\\nHash: {}\\n\".format(self.block_data['index'], self.block_data['nonce'], transaction_content, self.block_data['previous_block_hash'], self.block_hash)\n",
    "        return content\n",
    "        \n",
    "\n",
    "\n"
   ]
  },
  {
   "cell_type": "code",
   "execution_count": 3,
   "metadata": {},
   "outputs": [],
   "source": [
    "class Blockchain():\n",
    "    def __init__(self):\n",
    "        self.chain = [Block(1, \"0000000000000000000000000000000000\", [])]\n",
    "        self.pending_transactions = []\n",
    "        # self.check_transactions_progress()\n",
    "        \n",
    "    def add_new_block(self):\n",
    "        pending_size = len(self.pending_transactions)\n",
    "        to_be_added = 0\n",
    "        if pending_size > 4:\n",
    "            to_be_added = random.randint(2, 4)\n",
    "        if to_be_added != 0:\n",
    "            next_batch = self.pending_transactions[:to_be_added]\n",
    "        \n",
    "            if len(self.chain) == 0:\n",
    "                previous_block_hash = \"0000000000000000000000000000000000\"\n",
    "            else:\n",
    "                previous_block_hash = self.last_block.block_hash\n",
    "            print(\"New Block Added!\")\n",
    "            \n",
    "            new_block = Block(index = len(self.chain) + 1, previous_block_hash=previous_block_hash, transaction_list = next_batch)\n",
    "            self.chain.append(new_block)\\\n",
    "            \n",
    "            print(new_block)\n",
    "\n",
    "            self.pending_transactions = self.pending_transactions[to_be_added:]\n",
    "\n",
    "    #Search the blockchain for the most recent block.\n",
    "    @property\n",
    "    def last_block(self):\n",
    "        return self.chain[-1]\n",
    "    def add_new_transaction(self, sender, recipient, message):\n",
    "        transaction = {\n",
    "            'sender': sender,\n",
    "            'recipient': recipient,\n",
    "            'message': message\n",
    "        }\n",
    "        \n",
    "        self.pending_transactions.append(transaction)\n",
    "        self.add_new_block()\n",
    "        return transaction\n",
    "    def __str__(self):\n",
    "        content = \"---------------------------------------------------\\n\"\n",
    "        for block in self.chain:\n",
    "            content += block.__str__()\n",
    "            content += \"---------------------------------------------------\\n\"\n",
    "        return content\n"
   ]
  },
  {
   "cell_type": "code",
   "execution_count": 4,
   "metadata": {},
   "outputs": [
    {
     "name": "stdout",
     "output_type": "stream",
     "text": [
      "New Block Added!\n",
      "Block #2\n",
      "Nonce: 425\n",
      "Transactions: {\"sender\": \"Satoshi\", \"recipient\": \"Mike\", \"message\": \"Hello\"}\n",
      "{\"sender\": \"Rob\", \"recipient\": \"Jay\", \"message\": \"What is up?\"}\n",
      "{\"sender\": \"Kaitlyn\", \"recipient\": \"Devin\", \"message\": \"Wrong number!\"}\n",
      "{\"sender\": \"Paul\", \"recipient\": \"Kaitlyn\", \"message\": \"Hi! How are you doing?\"}\n",
      "\n",
      "Prev: 000f261412d0815eb465f966f304c7c80dc23db470e5dfde8431d1838751d076\n",
      "Hash: 000d541ee7e8f04629ba2af8ff47b6a76161559936183ea1998c1967b4d01f02\n",
      "\n"
     ]
    },
    {
     "data": {
      "text/plain": [
       "{'sender': 'Tyler', 'recipient': 'Bob', 'message': 'Thanks man!'}"
      ]
     },
     "execution_count": 4,
     "metadata": {},
     "output_type": "execute_result"
    }
   ],
   "source": [
    "blockchain = Blockchain()\n",
    "blockchain.add_new_transaction(\"Satoshi\", \"Mike\", 'Hello')\n",
    "blockchain.add_new_transaction(\"Rob\", \"Jay\", 'What is up?')\n",
    "blockchain.add_new_transaction(\"Kaitlyn\", \"Devin\", 'Wrong number!')\n",
    "blockchain.add_new_transaction(\"Paul\", \"Kaitlyn\", 'Hi! How are you doing?')\n",
    "blockchain.add_new_transaction(\"Tyler\", \"Bob\", 'Thanks man!')\n",
    "\n",
    "\n",
    "\n"
   ]
  },
  {
   "cell_type": "code",
   "execution_count": 63,
   "metadata": {},
   "outputs": [
    {
     "data": {
      "text/plain": [
       "[{'sender': 'Paul',\n",
       "  'recipient': 'Kaitlyn',\n",
       "  'message': 'Hi! How are you doing?'},\n",
       " {'sender': 'Tyler', 'recipient': 'Bob', 'message': 'Thanks man!'}]"
      ]
     },
     "execution_count": 63,
     "metadata": {},
     "output_type": "execute_result"
    }
   ],
   "source": []
  },
  {
   "cell_type": "code",
   "execution_count": 6,
   "metadata": {},
   "outputs": [
    {
     "data": {
      "text/plain": [
       "{'sender': 'John', 'recipient': 'Travis', 'message': 'Indeed!'}"
      ]
     },
     "execution_count": 6,
     "metadata": {},
     "output_type": "execute_result"
    }
   ],
   "source": [
    "blockchain.add_new_transaction(\"Lily\", \"Kyle\", 'How can I help you?')\n",
    "blockchain.add_new_transaction(\"Phillip\", \"Curtis\", 'Sure!')\n",
    "blockchain.add_new_transaction(\"John\", \"Travis\", 'Indeed!')\n"
   ]
  },
  {
   "cell_type": "code",
   "execution_count": 7,
   "metadata": {},
   "outputs": [
    {
     "name": "stdout",
     "output_type": "stream",
     "text": [
      "---------------------------------------------------\n",
      "Block #1\n",
      "Nonce: 1489\n",
      "Transactions: \n",
      "Prev: 0000000000000000000000000000000000\n",
      "Hash: 000f261412d0815eb465f966f304c7c80dc23db470e5dfde8431d1838751d076\n",
      "---------------------------------------------------\n",
      "Block #2\n",
      "Nonce: 425\n",
      "Transactions: {\"sender\": \"Satoshi\", \"recipient\": \"Mike\", \"message\": \"Hello\"}\n",
      "{\"sender\": \"Rob\", \"recipient\": \"Jay\", \"message\": \"What is up?\"}\n",
      "{\"sender\": \"Kaitlyn\", \"recipient\": \"Devin\", \"message\": \"Wrong number!\"}\n",
      "{\"sender\": \"Paul\", \"recipient\": \"Kaitlyn\", \"message\": \"Hi! How are you doing?\"}\n",
      "\n",
      "Prev: 000f261412d0815eb465f966f304c7c80dc23db470e5dfde8431d1838751d076\n",
      "Hash: 000d541ee7e8f04629ba2af8ff47b6a76161559936183ea1998c1967b4d01f02\n",
      "---------------------------------------------------\n",
      "\n"
     ]
    },
    {
     "data": {
      "text/plain": [
       "[{'sender': 'Tyler', 'recipient': 'Bob', 'message': 'Thanks man!'},\n",
       " {'sender': 'Lily', 'recipient': 'Kyle', 'message': 'How can I help you?'},\n",
       " {'sender': 'Phillip', 'recipient': 'Curtis', 'message': 'Sure!'},\n",
       " {'sender': 'John', 'recipient': 'Travis', 'message': 'Indeed!'}]"
      ]
     },
     "execution_count": 7,
     "metadata": {},
     "output_type": "execute_result"
    }
   ],
   "source": [
    "print(blockchain)\n",
    "blockchain.pending_transactions"
   ]
  },
  {
   "cell_type": "code",
   "execution_count": 10,
   "metadata": {},
   "outputs": [],
   "source": [
    "def sleep(timeout, retry=3):\n",
    "    def the_real_decorator(function):\n",
    "        def wrapper(*args, **kwargs):\n",
    "            retries = 0\n",
    "            while retries < retry:\n",
    "                try:\n",
    "                    value = function(*args, **kwargs)\n",
    "                    if value is None:\n",
    "                        return\n",
    "                except:\n",
    "                    print(f'Sleeping for {timeout} seconds')\n",
    "                    time.sleep(timeout)\n",
    "                    retries += 1\n",
    "        return wrapper\n",
    "    return the_real_decorator"
   ]
  },
  {
   "cell_type": "code",
   "execution_count": 42,
   "metadata": {},
   "outputs": [],
   "source": [
    "import Crypto\n",
    "from Crypto.PublicKey import RSA\n",
    "from Crypto import Random\n",
    "from Crypto.Random import get_random_bytes\n",
    "from Crypto.Cipher import AES, PKCS1_OAEP\n",
    "import base64\n",
    "from pathlib import Path"
   ]
  },
  {
   "cell_type": "code",
   "execution_count": null,
   "metadata": {},
   "outputs": [],
   "source": [
    "def send_message(sender, recipient, message):\n",
    "    //create encrypted_data.bin inside folder\n",
    "    //encrypt(recipient.public_key, message)\n",
    "    //write"
   ]
  },
  {
   "cell_type": "code",
   "execution_count": 47,
   "metadata": {},
   "outputs": [],
   "source": [
    "def generate_keys(name_dir):  \n",
    "    p = Path('credentials/public/{}'.format(name_dir))\n",
    "    p.mkdir(parents=True, exist_ok=True)\n",
    "    p = Path('credentials/private/{}'.format(name_dir))\n",
    "    p.mkdir(parents=True, exist_ok=True)\n",
    "    \n",
    "    key = RSA.generate(2048)\n",
    "    private_key = key.export_key()\n",
    "    file_out = open(\"credentials/private/{}/private.pem\".format(name_dir), \"wb\")\n",
    "    file_out.write(private_key)\n",
    "    file_out.close()\n",
    "\n",
    "    public_key = key.publickey().export_key()\n",
    "    file_out = open(\"credentials/public/{}/receiver.pem\".format(name_dir), \"wb\")\n",
    "    file_out.write(public_key)\n",
    "    file_out.close()\n",
    "def encrypt(rsa_publickey,plain_text):\n",
    "#     cipher_text=rsa_publickey.encrypt(plain_text,32)[0]\n",
    "    session_key = get_random_bytes(16)\n",
    "    cipher_aes = AES.new(session_key, AES.MODE_EAX)\n",
    "    ciphertext, tag = cipher_aes.encrypt_and_digest(plain_text)\n",
    "    b64cipher=base64.b64encode(ciphertext)\n",
    "    return b64cipher\n",
    "def decrypt(rsa_privatekey,b64cipher):\n",
    "     decoded_ciphertext = base64.b64decode(b64cipher)\n",
    "     plaintext = rsa_privatekey.decrypt(decoded_ciphertext)\n",
    "     return plaintext\n",
    "def sign(privatekey,data):\n",
    "    # Decrypt the session key with the private RSA key\n",
    "    cipher_rsa = PKCS1_OAEP.new(privatekey)\n",
    "    session_key = cipher_rsa.decrypt(enc_session_key)\n",
    "    return base64.b64encode(str((privatekey.sign(data,''))[0]).encode())\n",
    "def verify(publickey,data,sign):\n",
    "     return publickey.verify(data,(int(base64.b64decode(sign)),))"
   ]
  },
  {
   "cell_type": "code",
   "execution_count": 48,
   "metadata": {},
   "outputs": [],
   "source": [
    "names = [\"DrLee\", \"Duy\", \"Sri\"]\n",
    "for name in names:\n",
    "    generate_keys(name)"
   ]
  },
  {
   "cell_type": "code",
   "execution_count": 37,
   "metadata": {},
   "outputs": [
    {
     "name": "stdout",
     "output_type": "stream",
     "text": [
      "b'FemZsAAHBlZKlZAR3M+e1w=='\n"
     ]
    }
   ],
   "source": [
    "text=b\"Hello Dr. Lee!!!\"\n",
    "ct=encrypt(publickey,text)\n",
    "print(ct)"
   ]
  },
  {
   "cell_type": "code",
   "execution_count": 38,
   "metadata": {},
   "outputs": [
    {
     "ename": "NotImplementedError",
     "evalue": "Use module Crypto.Cipher.PKCS1_OAEP instead",
     "output_type": "error",
     "traceback": [
      "\u001b[1;31m---------------------------------------------------------------------------\u001b[0m",
      "\u001b[1;31mNotImplementedError\u001b[0m                       Traceback (most recent call last)",
      "\u001b[1;32m~\\AppData\\Local\\Temp/ipykernel_4200/2458781611.py\u001b[0m in \u001b[0;36m<module>\u001b[1;34m\u001b[0m\n\u001b[1;32m----> 1\u001b[1;33m \u001b[0mdecrypt\u001b[0m\u001b[1;33m(\u001b[0m\u001b[0mprivatekey\u001b[0m\u001b[1;33m,\u001b[0m\u001b[0mct\u001b[0m\u001b[1;33m)\u001b[0m\u001b[1;33m\u001b[0m\u001b[1;33m\u001b[0m\u001b[0m\n\u001b[0m",
      "\u001b[1;32m~\\AppData\\Local\\Temp/ipykernel_4200/840606754.py\u001b[0m in \u001b[0;36mdecrypt\u001b[1;34m(rsa_privatekey, b64cipher)\u001b[0m\n\u001b[0;32m     13\u001b[0m \u001b[1;32mdef\u001b[0m \u001b[0mdecrypt\u001b[0m\u001b[1;33m(\u001b[0m\u001b[0mrsa_privatekey\u001b[0m\u001b[1;33m,\u001b[0m\u001b[0mb64cipher\u001b[0m\u001b[1;33m)\u001b[0m\u001b[1;33m:\u001b[0m\u001b[1;33m\u001b[0m\u001b[1;33m\u001b[0m\u001b[0m\n\u001b[0;32m     14\u001b[0m      \u001b[0mdecoded_ciphertext\u001b[0m \u001b[1;33m=\u001b[0m \u001b[0mbase64\u001b[0m\u001b[1;33m.\u001b[0m\u001b[0mb64decode\u001b[0m\u001b[1;33m(\u001b[0m\u001b[0mb64cipher\u001b[0m\u001b[1;33m)\u001b[0m\u001b[1;33m\u001b[0m\u001b[1;33m\u001b[0m\u001b[0m\n\u001b[1;32m---> 15\u001b[1;33m      \u001b[0mplaintext\u001b[0m \u001b[1;33m=\u001b[0m \u001b[0mrsa_privatekey\u001b[0m\u001b[1;33m.\u001b[0m\u001b[0mdecrypt\u001b[0m\u001b[1;33m(\u001b[0m\u001b[0mdecoded_ciphertext\u001b[0m\u001b[1;33m)\u001b[0m\u001b[1;33m\u001b[0m\u001b[1;33m\u001b[0m\u001b[0m\n\u001b[0m\u001b[0;32m     16\u001b[0m      \u001b[1;32mreturn\u001b[0m \u001b[0mplaintext\u001b[0m\u001b[1;33m\u001b[0m\u001b[1;33m\u001b[0m\u001b[0m\n\u001b[0;32m     17\u001b[0m \u001b[1;32mdef\u001b[0m \u001b[0msign\u001b[0m\u001b[1;33m(\u001b[0m\u001b[0mprivatekey\u001b[0m\u001b[1;33m,\u001b[0m\u001b[0mdata\u001b[0m\u001b[1;33m)\u001b[0m\u001b[1;33m:\u001b[0m\u001b[1;33m\u001b[0m\u001b[1;33m\u001b[0m\u001b[0m\n",
      "\u001b[1;32m~\\Anaconda3\\envs\\blockchain\\lib\\site-packages\\Crypto\\PublicKey\\RSA.py\u001b[0m in \u001b[0;36mdecrypt\u001b[1;34m(self, ciphertext)\u001b[0m\n\u001b[0;32m    380\u001b[0m \u001b[1;33m\u001b[0m\u001b[0m\n\u001b[0;32m    381\u001b[0m     \u001b[1;32mdef\u001b[0m \u001b[0mdecrypt\u001b[0m\u001b[1;33m(\u001b[0m\u001b[0mself\u001b[0m\u001b[1;33m,\u001b[0m \u001b[0mciphertext\u001b[0m\u001b[1;33m)\u001b[0m\u001b[1;33m:\u001b[0m\u001b[1;33m\u001b[0m\u001b[1;33m\u001b[0m\u001b[0m\n\u001b[1;32m--> 382\u001b[1;33m         \u001b[1;32mraise\u001b[0m \u001b[0mNotImplementedError\u001b[0m\u001b[1;33m(\u001b[0m\u001b[1;34m\"Use module Crypto.Cipher.PKCS1_OAEP instead\"\u001b[0m\u001b[1;33m)\u001b[0m\u001b[1;33m\u001b[0m\u001b[1;33m\u001b[0m\u001b[0m\n\u001b[0m\u001b[0;32m    383\u001b[0m \u001b[1;33m\u001b[0m\u001b[0m\n\u001b[0;32m    384\u001b[0m     \u001b[1;32mdef\u001b[0m \u001b[0mblind\u001b[0m\u001b[1;33m(\u001b[0m\u001b[0mself\u001b[0m\u001b[1;33m,\u001b[0m \u001b[0mM\u001b[0m\u001b[1;33m,\u001b[0m \u001b[0mB\u001b[0m\u001b[1;33m)\u001b[0m\u001b[1;33m:\u001b[0m\u001b[1;33m\u001b[0m\u001b[1;33m\u001b[0m\u001b[0m\n",
      "\u001b[1;31mNotImplementedError\u001b[0m: Use module Crypto.Cipher.PKCS1_OAEP instead"
     ]
    }
   ],
   "source": [
    "decrypt(privatekey,ct)"
   ]
  },
  {
   "cell_type": "code",
   "execution_count": 39,
   "metadata": {},
   "outputs": [],
   "source": [
    "from Crypto.PublicKey import RSA\n",
    "\n",
    "key = RSA.generate(2048)\n",
    "private_key = key.export_key()\n",
    "file_out = open(\"private.pem\", \"wb\")\n",
    "file_out.write(private_key)\n",
    "file_out.close()\n",
    "\n",
    "public_key = key.publickey().export_key()\n",
    "file_out = open(\"receiver.pem\", \"wb\")\n",
    "file_out.write(public_key)\n",
    "file_out.close()"
   ]
  },
  {
   "cell_type": "code",
   "execution_count": 40,
   "metadata": {},
   "outputs": [],
   "source": [
    "from Crypto.PublicKey import RSA\n",
    "from Crypto.Random import get_random_bytes\n",
    "from Crypto.Cipher import AES, PKCS1_OAEP\n",
    "\n",
    "data = \"I met aliens in UFO. Here is the map.\".encode(\"utf-8\")\n",
    "file_out = open(\"encrypted_data.bin\", \"wb\")\n",
    "\n",
    "recipient_key = RSA.import_key(open(\"receiver.pem\").read())\n",
    "session_key = get_random_bytes(16)\n",
    "\n",
    "# Encrypt the session key with the public RSA key\n",
    "cipher_rsa = PKCS1_OAEP.new(recipient_key)\n",
    "enc_session_key = cipher_rsa.encrypt(session_key)\n",
    "\n",
    "# Encrypt the data with the AES session key\n",
    "cipher_aes = AES.new(session_key, AES.MODE_EAX)\n",
    "ciphertext, tag = cipher_aes.encrypt_and_digest(data)\n",
    "[ file_out.write(x) for x in (enc_session_key, cipher_aes.nonce, tag, ciphertext) ]\n",
    "file_out.close()"
   ]
  },
  {
   "cell_type": "code",
   "execution_count": 41,
   "metadata": {},
   "outputs": [
    {
     "name": "stdout",
     "output_type": "stream",
     "text": [
      "I met aliens in UFO. Here is the map.\n"
     ]
    }
   ],
   "source": [
    "from Crypto.PublicKey import RSA\n",
    "from Crypto.Cipher import AES, PKCS1_OAEP\n",
    "\n",
    "file_in = open(\"encrypted_data.bin\", \"rb\")\n",
    "\n",
    "private_key = RSA.import_key(open(\"private.pem\").read())\n",
    "\n",
    "enc_session_key, nonce, tag, ciphertext = \\\n",
    "   [ file_in.read(x) for x in (private_key.size_in_bytes(), 16, 16, -1) ]\n",
    "\n",
    "# Decrypt the session key with the private RSA key\n",
    "cipher_rsa = PKCS1_OAEP.new(private_key)\n",
    "session_key = cipher_rsa.decrypt(enc_session_key)\n",
    "\n",
    "# Decrypt the data with the AES session key\n",
    "cipher_aes = AES.new(session_key, AES.MODE_EAX, nonce)\n",
    "data = cipher_aes.decrypt_and_verify(ciphertext, tag)\n",
    "print(data.decode(\"utf-8\"))"
   ]
  }
 ],
 "metadata": {
  "interpreter": {
   "hash": "a69a97d3c0c90f1132d3fe1c1bdf15f941a20aa0a78eb54401bae5bd6029936d"
  },
  "kernelspec": {
   "display_name": "Python 3 (ipykernel)",
   "language": "python",
   "name": "python3"
  },
  "language_info": {
   "codemirror_mode": {
    "name": "ipython",
    "version": 3
   },
   "file_extension": ".py",
   "mimetype": "text/x-python",
   "name": "python",
   "nbconvert_exporter": "python",
   "pygments_lexer": "ipython3",
   "version": "3.7.10"
  }
 },
 "nbformat": 4,
 "nbformat_minor": 4
}
