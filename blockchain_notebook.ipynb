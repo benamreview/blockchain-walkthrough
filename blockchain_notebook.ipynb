{
 "metadata": {
  "language_info": {
   "codemirror_mode": {
    "name": "ipython",
    "version": 3
   },
   "file_extension": ".py",
   "mimetype": "text/x-python",
   "name": "python",
   "nbconvert_exporter": "python",
   "pygments_lexer": "ipython3",
   "version": "3.9.1"
  },
  "orig_nbformat": 4,
  "kernelspec": {
   "name": "python3",
   "display_name": "Python 3.9.1 64-bit"
  },
  "interpreter": {
   "hash": "743d8e81f6457303ca6194fcdb1f2fe72990b27d918a951aab731d237c696ad8"
  }
 },
 "nbformat": 4,
 "nbformat_minor": 2,
 "cells": [
  {
   "cell_type": "code",
   "execution_count": 5,
   "metadata": {},
   "outputs": [],
   "source": [
    "import hashlib\n",
    "import json"
   ]
  },
  {
   "cell_type": "code",
   "execution_count": 56,
   "metadata": {},
   "outputs": [],
   "source": [
    "class Block:\n",
    "    def __init__(self, previous_block_hash, transaction_list):\n",
    "        self.previous_block_hash = previous_block_hash\n",
    "        self.transaction_list = transaction_list\n",
    "\n",
    "        self.block_data = {\n",
    "            \"transaction_list\": transaction_list,\n",
    "            \"previous_block_hash\": previous_block_hash,\n",
    "            \"nonce\": 0\n",
    "        }\n",
    "        self.block_hash = None\n",
    "\n",
    "        self.generate_hash()\n",
    "        print(self.block_hash, self.block_data)\n",
    "    def generate_hash(self):\n",
    "        encoded_string = json.dumps(self.block_data).encode()\n",
    "        generated_hash = hashlib.sha256(encoded_string).hexdigest()\n",
    "        while generated_hash[:3] != '000':\n",
    "            self.block_data[\"nonce\"]+=1\n",
    "            encoded_string = json.dumps(self.block_data).encode()\n",
    "            generated_hash = hashlib.sha256(encoded_string).hexdigest()\n",
    "            # print(generated_hash, self.block_data[\"nonce\"])\n",
    "                   \n",
    "        self.block_hash = generated_hash\n",
    "        # self.nonce = nonce\n",
    "        return\n",
    "        \n",
    "\n",
    "\n"
   ]
  },
  {
   "cell_type": "code",
   "execution_count": 50,
   "metadata": {},
   "outputs": [],
   "source": [
    "\n",
    "t1 = \"Happy Birthday to You Mike!\"\n",
    "t2 = \"Thank you Michelle!\"\n",
    "t3 = \"Happy Birthday to You Bob!\"\n",
    "t4 = \"Thanks!!\"\n",
    "t5 = \"Happy Birthday to You Lona!\"\n",
    "t6 = \"Thank you Paul!!\""
   ]
  },
  {
   "cell_type": "code",
   "execution_count": 57,
   "metadata": {
    "tags": []
   },
   "outputs": [
    {
     "output_type": "stream",
     "name": "stdout",
     "text": [
      "000e767493997b51d7e50e886450cba497551f2eeab43d8221237936fcd41ad5 {'transaction_list': ['Happy Birthday to You Mike!', 'Thank you Michelle!'], 'previous_block_hash': '00000000000000', 'nonce': 6635}\n000c525189039e751603a49d0b359d165f7cca9ea664edec69e7104236e82571 {'transaction_list': ['Happy Birthday to You Bob!', 'Thanks!!'], 'previous_block_hash': '000e767493997b51d7e50e886450cba497551f2eeab43d8221237936fcd41ad5', 'nonce': 3303}\n000e3a5f1423a912d79a224eed8950c58851439302f1a1a596d68695993a8339 {'transaction_list': ['Happy Birthday to You Lona!', 'Thank you Paul!!'], 'previous_block_hash': '000c525189039e751603a49d0b359d165f7cca9ea664edec69e7104236e82571', 'nonce': 7201}\n"
     ]
    }
   ],
   "source": [
    "initial_block = Block(\"00000000000000\", [t1,t2])\n",
    "second_block = Block(initial_block.block_hash, [t3,t4])\n",
    "third_block = Block(second_block.block_hash, [t5,t6])\n"
   ]
  },
  {
   "cell_type": "code",
   "execution_count": 47,
   "metadata": {},
   "outputs": [
    {
     "output_type": "execute_result",
     "data": {
      "text/plain": [
       "'000e767493997b51d7e50e886450cba497551f2eeab43d8221237936fcd41ad5'"
      ]
     },
     "metadata": {},
     "execution_count": 47
    }
   ],
   "source": [
    "initial_block.block_hash"
   ]
  },
  {
   "cell_type": "code",
   "execution_count": null,
   "metadata": {},
   "outputs": [],
   "source": []
  }
 ]
}